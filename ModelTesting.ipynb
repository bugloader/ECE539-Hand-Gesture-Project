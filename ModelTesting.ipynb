{
 "cells": [
  {
   "cell_type": "code",
   "execution_count": 7,
   "metadata": {},
   "outputs": [],
   "source": [
    "import os\n",
    "import cv2\n",
    "import pickle\n",
    "import numpy as np\n",
    "import seaborn as sn\n",
    "import tensorflow as tf\n",
    "from tensorflow import keras\n",
    "import matplotlib.pyplot as plt\n",
    "from sklearn import preprocessing\n",
    "from sklearn.model_selection import train_test_split\n",
    "from sklearn.metrics import classification_report, confusion_matrix\n",
    "from keras.layers import Conv2D, Flatten, Dense, AveragePooling2D"
   ]
  },
  {
   "cell_type": "code",
   "execution_count": 8,
   "metadata": {},
   "outputs": [],
   "source": [
    "path = './asl_dataset/'\n",
    "data,label = [],[]\n",
    "for root, dirs, files in os.walk(path):\n",
    "    key = os.path.basename(root)\n",
    "    for file in files:\n",
    "        full_file_path = os.path.join(root,file)\n",
    "        img = cv2.imread(full_file_path)\n",
    "        img = cv2.resize(img,(128,128))\n",
    "        img = cv2.cvtColor(img,cv2.COLOR_BGR2RGB)\n",
    "        data.append(img)\n",
    "        label.append(key)\n",
    "\n",
    "data = np.array(data)\n",
    "label = np.array(label)"
   ]
  },
  {
   "cell_type": "code",
   "execution_count": 9,
   "metadata": {},
   "outputs": [],
   "source": [
    "x_train, x_test0, y_train, y_test0 = train_test_split(data, label, train_size=0.8, shuffle=True)\n",
    "x_test, x_val, y_test, y_val = train_test_split(x_test0, y_test0, train_size=0.5, shuffle=True)"
   ]
  },
  {
   "cell_type": "code",
   "execution_count": 10,
   "metadata": {},
   "outputs": [
    {
     "name": "stdout",
     "output_type": "stream",
     "text": [
      "(2012, 128, 128, 3)\n",
      "(2012,)\n",
      "(252, 128, 128, 3)\n",
      "(252,)\n",
      "(251, 128, 128, 3)\n",
      "(251,)\n"
     ]
    }
   ],
   "source": [
    "print(x_train.shape)\n",
    "print(y_train.shape)\n",
    "\n",
    "print(x_val.shape)\n",
    "print(y_val.shape)\n",
    "\n",
    "print(x_test.shape)\n",
    "print(y_test.shape)"
   ]
  },
  {
   "cell_type": "code",
   "execution_count": 11,
   "metadata": {},
   "outputs": [],
   "source": [
    "# Normalization\n",
    "x_train = x_train/255.0\n",
    "x_val = x_val/255.0\n",
    "x_test = x_test/255.0"
   ]
  },
  {
   "cell_type": "code",
   "execution_count": 12,
   "metadata": {},
   "outputs": [],
   "source": [
    "#Encode labels from string to int\n",
    "le = preprocessing.LabelEncoder()\n",
    "labelEnc_train = le.fit_transform(y_train)\n",
    "labelEnc_test = le.fit_transform(y_test)\n",
    "labelEnc_val = le.fit_transform(y_val)"
   ]
  },
  {
   "cell_type": "code",
   "execution_count": 13,
   "metadata": {},
   "outputs": [
    {
     "name": "stdout",
     "output_type": "stream",
     "text": [
      "(252, 128, 128, 3)\n",
      "(252,)\n"
     ]
    }
   ],
   "source": [
    "print(x_val.shape)\n",
    "print(labelEnc_val.shape)"
   ]
  },
  {
   "cell_type": "code",
   "execution_count": 14,
   "metadata": {},
   "outputs": [
    {
     "name": "stdout",
     "output_type": "stream",
     "text": [
      "Model: \"sequential\"\n",
      "_________________________________________________________________\n",
      " Layer (type)                Output Shape              Param #   \n",
      "=================================================================\n",
      " conv2d (Conv2D)             (None, 124, 124, 32)      2432      \n",
      "                                                                 \n",
      " average_pooling2d (AverageP  (None, 62, 62, 32)       0         \n",
      " ooling2D)                                                       \n",
      "                                                                 \n",
      " conv2d_1 (Conv2D)           (None, 58, 58, 64)        51264     \n",
      "                                                                 \n",
      " average_pooling2d_1 (Averag  (None, 29, 29, 64)       0         \n",
      " ePooling2D)                                                     \n",
      "                                                                 \n",
      " flatten (Flatten)           (None, 53824)             0         \n",
      "                                                                 \n",
      " dense (Dense)               (None, 128)               6889600   \n",
      "                                                                 \n",
      " dense_1 (Dense)             (None, 36)                4644      \n",
      "                                                                 \n",
      "=================================================================\n",
      "Total params: 6,947,940\n",
      "Trainable params: 6,947,940\n",
      "Non-trainable params: 0\n",
      "_________________________________________________________________\n"
     ]
    }
   ],
   "source": [
    "num_classes = 36\n",
    "\n",
    "model = keras.Sequential()\n",
    "\n",
    "model.add(Conv2D(32, (5,5), activation = 'relu', input_shape = (128,128,3)))\n",
    "model.add(AveragePooling2D())\n",
    "\n",
    "model.add(Conv2D(64, (5,5), activation = 'relu'))\n",
    "model.add(AveragePooling2D())\n",
    "\n",
    "model.add(Flatten())\n",
    "\n",
    "model.add(Dense(128, activation = 'relu'))\n",
    "model.add(Dense(num_classes, activation = 'softmax'))\n",
    "\n",
    "model.summary()"
   ]
  },
  {
   "cell_type": "code",
   "execution_count": 15,
   "metadata": {},
   "outputs": [],
   "source": [
    "# compile the neural network\n",
    "model.compile(optimizer='adam',\n",
    "              loss='sparse_categorical_crossentropy',\n",
    "              metrics=['acc'])"
   ]
  },
  {
   "cell_type": "code",
   "execution_count": 16,
   "metadata": {},
   "outputs": [
    {
     "name": "stdout",
     "output_type": "stream",
     "text": [
      "Epoch 1/8\n",
      "63/63 [==============================] - 11s 162ms/step - loss: 1.1907 - acc: 0.6794 - val_loss: 0.4366 - val_acc: 0.8532\n",
      "Epoch 2/8\n",
      "63/63 [==============================] - 10s 161ms/step - loss: 0.1980 - acc: 0.9384 - val_loss: 0.2952 - val_acc: 0.9127\n",
      "Epoch 3/8\n",
      "63/63 [==============================] - 10s 162ms/step - loss: 0.0758 - acc: 0.9747 - val_loss: 0.3295 - val_acc: 0.9127\n",
      "Epoch 4/8\n",
      "63/63 [==============================] - 10s 160ms/step - loss: 0.0406 - acc: 0.9851 - val_loss: 0.2297 - val_acc: 0.9405\n",
      "Epoch 5/8\n",
      "63/63 [==============================] - 10s 161ms/step - loss: 0.0217 - acc: 0.9930 - val_loss: 0.2564 - val_acc: 0.9484\n",
      "Epoch 6/8\n",
      "63/63 [==============================] - 10s 158ms/step - loss: 0.0201 - acc: 0.9925 - val_loss: 0.2457 - val_acc: 0.9563\n",
      "Epoch 7/8\n",
      "63/63 [==============================] - 10s 160ms/step - loss: 0.0203 - acc: 0.9960 - val_loss: 0.2151 - val_acc: 0.9444\n",
      "Epoch 8/8\n",
      "63/63 [==============================] - 10s 161ms/step - loss: 0.0081 - acc: 0.9965 - val_loss: 0.1868 - val_acc: 0.9524\n"
     ]
    }
   ],
   "source": [
    "# Training the Neural Network\n",
    "history = model.fit(x_train, labelEnc_train, validation_data=(x_val,labelEnc_val), epochs=8, batch_size=32)"
   ]
  },
  {
   "cell_type": "code",
   "execution_count": 17,
   "metadata": {},
   "outputs": [
    {
     "name": "stdout",
     "output_type": "stream",
     "text": [
      "8/8 [==============================] - 0s 33ms/step - loss: 0.1312 - acc: 0.9681\n",
      "Test Accuracy = 0.9681274890899658\n"
     ]
    }
   ],
   "source": [
    "loss, accuracy = model.evaluate(x_test, labelEnc_test)\n",
    "print('Test Accuracy =', accuracy)"
   ]
  },
  {
   "cell_type": "code",
   "execution_count": 18,
   "metadata": {},
   "outputs": [
    {
     "data": {
      "image/png": "[encoded data removed]",
      "text/plain": [
       "<Figure size 360x216 with 1 Axes>"
      ]
     },
     "metadata": {
      "needs_background": "light"
     },
     "output_type": "display_data"
    },
    {
     "data": {
      "image/png": "[encoded data removed]",
      "text/plain": [
       "<Figure size 360x216 with 1 Axes>"
      ]
     },
     "metadata": {
      "needs_background": "light"
     },
     "output_type": "display_data"
    }
   ],
   "source": [
    "# Plot the loss value\n",
    "plt.figure(figsize=(5,3))\n",
    "plt.plot(history.history['loss'], label='Train Loss')\n",
    "plt.plot(history.history['val_loss'], label='Validation Loss')\n",
    "plt.legend()\n",
    "plt.show()\n",
    "\n",
    "# Plot the accuracy value\n",
    "plt.figure(figsize=(5,3))\n",
    "plt.plot(history.history['acc'], label='Train Accuracy')\n",
    "plt.plot(history.history['val_acc'], label='Validation Accuracy')\n",
    "plt.legend()\n",
    "plt.show()"
   ]
  },
  {
   "cell_type": "code",
   "execution_count": 19,
   "metadata": {},
   "outputs": [
    {
     "name": "stdout",
     "output_type": "stream",
     "text": [
      "8/8 [==============================] - 0s 30ms/step\n",
      "              precision    recall  f1-score   support\n",
      "\n",
      "           0       1.00      1.00      1.00         3\n",
      "           1       1.00      1.00      1.00         9\n",
      "           2       0.83      1.00      0.91         5\n",
      "           3       1.00      1.00      1.00         6\n",
      "           4       0.89      1.00      0.94         8\n",
      "           5       1.00      0.83      0.91         6\n",
      "           6       0.80      1.00      0.89         4\n",
      "           7       1.00      0.71      0.83         7\n",
      "           8       0.71      1.00      0.83         5\n",
      "           9       1.00      1.00      1.00        10\n",
      "          10       1.00      1.00      1.00         3\n",
      "          11       1.00      1.00      1.00         8\n",
      "          12       1.00      1.00      1.00         8\n",
      "          13       1.00      1.00      1.00         6\n",
      "          14       1.00      1.00      1.00         5\n",
      "          15       1.00      1.00      1.00         5\n",
      "          16       1.00      1.00      1.00         8\n",
      "          17       1.00      1.00      1.00        10\n",
      "          18       1.00      1.00      1.00         5\n",
      "          19       1.00      1.00      1.00         9\n",
      "          20       1.00      1.00      1.00         7\n",
      "          21       1.00      1.00      1.00         6\n",
      "          22       1.00      0.91      0.95        11\n",
      "          23       0.60      1.00      0.75         3\n",
      "          24       1.00      1.00      1.00         6\n",
      "          25       1.00      1.00      1.00         9\n",
      "          26       1.00      1.00      1.00         8\n",
      "          27       1.00      1.00      1.00         9\n",
      "          28       1.00      0.91      0.95        11\n",
      "          29       1.00      1.00      1.00         6\n",
      "          30       1.00      0.71      0.83         7\n",
      "          31       1.00      1.00      1.00         5\n",
      "          32       1.00      0.80      0.89         5\n",
      "          33       1.00      1.00      1.00        10\n",
      "          34       1.00      1.00      1.00        10\n",
      "          35       0.89      1.00      0.94         8\n",
      "\n",
      "    accuracy                           0.97       251\n",
      "   macro avg       0.96      0.97      0.96       251\n",
      "weighted avg       0.98      0.97      0.97       251\n",
      "\n"
     ]
    }
   ],
   "source": [
    "# Classification Report\n",
    "y_pred=model.predict(x_test)\n",
    "y_pred=np.argmax(y_pred, axis=1)\n",
    "\n",
    "print(classification_report(y_pred, labelEnc_test))"
   ]
  }
 ],
 "metadata": {
  "kernelspec": {
   "display_name": "base",
   "language": "python",
   "name": "python3"
  },
  "language_info": {
   "codemirror_mode": {
    "name": "ipython",
    "version": 3
   },
   "file_extension": ".py",
   "mimetype": "text/x-python",
   "name": "python",
   "nbconvert_exporter": "python",
   "pygments_lexer": "ipython3",
   "version": "3.9.12"
  },
  "orig_nbformat": 4
 },
 "nbformat": 4,
 "nbformat_minor": 2
}
