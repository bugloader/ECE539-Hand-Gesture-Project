{
 "cells": [
  {
   "cell_type": "code",
   "execution_count": 1,
   "metadata": {},
   "outputs": [],
   "source": [
    "from matplotlib import image\n",
    "from matplotlib import pyplot\n",
    "import os\n",
    "import cv2\n",
    "import numpy as np\n",
    "import tensorflow as tf\n",
    "from tensorflow import keras\n",
    "from tensorflow.keras import layers\n",
    "from sklearn import model_selection,preprocessing"
   ]
  },
  {
   "cell_type": "code",
   "execution_count": 2,
   "metadata": {},
   "outputs": [
    {
     "name": "stdout",
     "output_type": "stream",
     "text": [
      "2.12.0\n"
     ]
    },
    {
     "data": {
      "text/plain": [
       "[]"
      ]
     },
     "execution_count": 2,
     "metadata": {},
     "output_type": "execute_result"
    }
   ],
   "source": [
    "print(tf.__version__)\n",
    "tf.config.experimental.list_physical_devices('GPU')"
   ]
  },
  {
   "cell_type": "markdown",
   "metadata": {},
   "source": [
    "DataPreProcessing:"
   ]
  },
  {
   "cell_type": "code",
   "execution_count": 6,
   "metadata": {},
   "outputs": [
    {
     "name": "stdout",
     "output_type": "stream",
     "text": [
      "0 1 2 3 4 5 6 7 8 9 a b c d e f g h i j k l m n o p q r s t u v w x y z "
     ]
    }
   ],
   "source": [
    "path = './asl_dataset/'\n",
    "data,label = [],[]\n",
    "for root, dirs, files in os.walk(path):\n",
    "    key = os.path.basename(root)\n",
    "    if key==\"\": continue\n",
    "    print(key, end=' ')\n",
    "    for file in files:\n",
    "        full_file_path = os.path.join(root,file)\n",
    "        img = image.imread(full_file_path)\n",
    "        img = cv2.resize(img,(128,128))\n",
    "        img = cv2.cvtColor(img,cv2.COLOR_BGR2RGB)\n",
    "        data.append(img)\n",
    "        label.append(key)\n",
    "\n",
    "data = np.array(data)\n",
    "label = np.array(label)"
   ]
  },
  {
   "cell_type": "code",
   "execution_count": 7,
   "metadata": {},
   "outputs": [],
   "source": [
    "x_train, x_test0, y_train, y_test0 = model_selection.train_test_split(data, label, test_size=0.2)\n",
    "x_test, x_val, y_test, y_val = model_selection.train_test_split(x_test0, y_test0, test_size=0.5)"
   ]
  },
  {
   "cell_type": "code",
   "execution_count": 8,
   "metadata": {},
   "outputs": [],
   "source": [
    "# Normalization\n",
    "x_train = x_train/255.0\n",
    "x_val = x_val/255.0\n",
    "x_test = x_test/255.0"
   ]
  },
  {
   "cell_type": "code",
   "execution_count": 9,
   "metadata": {},
   "outputs": [],
   "source": [
    "#Encode labels from string to int\n",
    "le = preprocessing.LabelEncoder()\n",
    "labelEnc_train = le.fit_transform(y_train)\n",
    "labelEnc_test = le.fit_transform(y_test)\n",
    "labelEnc_val = le.fit_transform(y_val)"
   ]
  },
  {
   "cell_type": "code",
   "execution_count": 10,
   "metadata": {},
   "outputs": [
    {
     "name": "stdout",
     "output_type": "stream",
     "text": [
      "Model: \"sequential\"\n",
      "_________________________________________________________________\n",
      " Layer (type)                Output Shape              Param #   \n",
      "=================================================================\n",
      " conv2d (Conv2D)             (None, 124, 124, 32)      2432      \n",
      "                                                                 \n",
      " average_pooling2d (AverageP  (None, 62, 62, 32)       0         \n",
      " ooling2D)                                                       \n",
      "                                                                 \n",
      " conv2d_1 (Conv2D)           (None, 58, 58, 64)        51264     \n",
      "                                                                 \n",
      " average_pooling2d_1 (Averag  (None, 29, 29, 64)       0         \n",
      " ePooling2D)                                                     \n",
      "                                                                 \n",
      " flatten (Flatten)           (None, 53824)             0         \n",
      "                                                                 \n",
      " dense (Dense)               (None, 128)               6889600   \n",
      "                                                                 \n",
      " dense_1 (Dense)             (None, 36)                4644      \n",
      "                                                                 \n",
      "=================================================================\n",
      "Total params: 6,947,940\n",
      "Trainable params: 6,947,940\n",
      "Non-trainable params: 0\n",
      "_________________________________________________________________\n"
     ]
    }
   ],
   "source": [
    "num_classes = 36\n",
    "\n",
    "model = keras.Sequential()\n",
    "\n",
    "model.add(layers.Conv2D(32, (5,5), activation = 'relu', input_shape = (128,128,3)))\n",
    "model.add(layers.AveragePooling2D())\n",
    "\n",
    "model.add(layers.Conv2D(64, (5,5), activation = 'relu'))\n",
    "model.add(layers.AveragePooling2D())\n",
    "\n",
    "model.add(layers.Flatten())\n",
    "\n",
    "model.add(layers.Dense(128, activation = 'relu'))\n",
    "model.add(layers.Dense(num_classes, activation = 'softmax'))\n",
    "\n",
    "model.summary()"
   ]
  },
  {
   "cell_type": "code",
   "execution_count": 11,
   "metadata": {},
   "outputs": [
    {
     "name": "stdout",
     "output_type": "stream",
     "text": [
      "Epoch 1/8\n",
      "63/63 [==============================] - 10s 158ms/step - loss: 1.3535 - acc: 0.6257 - val_loss: 0.3434 - val_acc: 0.8929\n",
      "Epoch 2/8\n",
      "63/63 [==============================] - 10s 154ms/step - loss: 0.2701 - acc: 0.9145 - val_loss: 0.2376 - val_acc: 0.9206\n",
      "Epoch 3/8\n",
      "63/63 [==============================] - 10s 153ms/step - loss: 0.0944 - acc: 0.9687 - val_loss: 0.1373 - val_acc: 0.9484\n",
      "Epoch 4/8\n",
      "63/63 [==============================] - 10s 153ms/step - loss: 0.0348 - acc: 0.9886 - val_loss: 0.0853 - val_acc: 0.9603\n",
      "Epoch 5/8\n",
      "63/63 [==============================] - 10s 151ms/step - loss: 0.0258 - acc: 0.9916 - val_loss: 0.1171 - val_acc: 0.9643\n",
      "Epoch 6/8\n",
      "63/63 [==============================] - 10s 153ms/step - loss: 0.0115 - acc: 0.9960 - val_loss: 0.1630 - val_acc: 0.9603\n",
      "Epoch 7/8\n",
      "63/63 [==============================] - 10s 151ms/step - loss: 0.0108 - acc: 0.9955 - val_loss: 0.2039 - val_acc: 0.9405\n",
      "Epoch 8/8\n",
      "63/63 [==============================] - 10s 153ms/step - loss: 0.0034 - acc: 1.0000 - val_loss: 0.1639 - val_acc: 0.9524\n"
     ]
    }
   ],
   "source": [
    "# compile the neural network\n",
    "model.compile(optimizer='adam',\n",
    "              loss='sparse_categorical_crossentropy',\n",
    "              metrics=['acc'])\n",
    "# Training the Neural Network\n",
    "history = model.fit(x_train, labelEnc_train, validation_data=(x_val,labelEnc_val), epochs=8, batch_size=32)"
   ]
  },
  {
   "cell_type": "code",
   "execution_count": 12,
   "metadata": {},
   "outputs": [
    {
     "name": "stdout",
     "output_type": "stream",
     "text": [
      "Epoch 1/8\n",
      "63/63 [==============================] - 10s 155ms/step - loss: 9.4080e-04 - acc: 1.0000 - val_loss: 0.1358 - val_acc: 0.9643\n",
      "Epoch 2/8\n",
      "63/63 [==============================] - 10s 152ms/step - loss: 2.3936e-04 - acc: 1.0000 - val_loss: 0.1167 - val_acc: 0.9643\n",
      "Epoch 3/8\n",
      "63/63 [==============================] - 10s 151ms/step - loss: 3.3667e-04 - acc: 1.0000 - val_loss: 0.0943 - val_acc: 0.9643\n",
      "Epoch 4/8\n",
      "63/63 [==============================] - 10s 153ms/step - loss: 8.3812e-05 - acc: 1.0000 - val_loss: 0.1146 - val_acc: 0.9603\n",
      "Epoch 5/8\n",
      "63/63 [==============================] - 10s 152ms/step - loss: 5.2585e-05 - acc: 1.0000 - val_loss: 0.1129 - val_acc: 0.9603\n",
      "Epoch 6/8\n",
      "63/63 [==============================] - 10s 154ms/step - loss: 4.3914e-05 - acc: 1.0000 - val_loss: 0.1129 - val_acc: 0.9603\n",
      "Epoch 7/8\n",
      "63/63 [==============================] - 9s 150ms/step - loss: 3.7527e-05 - acc: 1.0000 - val_loss: 0.1141 - val_acc: 0.9603\n",
      "Epoch 8/8\n",
      "63/63 [==============================] - 9s 150ms/step - loss: 3.3515e-05 - acc: 1.0000 - val_loss: 0.1151 - val_acc: 0.9603\n"
     ]
    }
   ],
   "source": [
    "history = model.fit(x_train, labelEnc_train, validation_data=(x_val,labelEnc_val), epochs=8, batch_size=32)"
   ]
  },
  {
   "cell_type": "code",
   "execution_count": 13,
   "metadata": {},
   "outputs": [
    {
     "name": "stdout",
     "output_type": "stream",
     "text": [
      "Epoch 1/8\n",
      "63/63 [==============================] - 10s 154ms/step - loss: 2.9995e-05 - acc: 1.0000 - val_loss: 0.1157 - val_acc: 0.9603\n",
      "Epoch 2/8\n",
      "63/63 [==============================] - 9s 150ms/step - loss: 2.6143e-05 - acc: 1.0000 - val_loss: 0.1162 - val_acc: 0.9603\n",
      "Epoch 3/8\n",
      "63/63 [==============================] - 9s 150ms/step - loss: 2.3490e-05 - acc: 1.0000 - val_loss: 0.1182 - val_acc: 0.9603\n",
      "Epoch 4/8\n",
      "63/63 [==============================] - 10s 151ms/step - loss: 2.1410e-05 - acc: 1.0000 - val_loss: 0.1182 - val_acc: 0.9603\n",
      "Epoch 5/8\n",
      "63/63 [==============================] - 10s 151ms/step - loss: 1.9742e-05 - acc: 1.0000 - val_loss: 0.1189 - val_acc: 0.9603\n",
      "Epoch 6/8\n",
      "63/63 [==============================] - 10s 151ms/step - loss: 1.7790e-05 - acc: 1.0000 - val_loss: 0.1200 - val_acc: 0.9603\n",
      "Epoch 7/8\n",
      "63/63 [==============================] - 10s 151ms/step - loss: 1.6286e-05 - acc: 1.0000 - val_loss: 0.1206 - val_acc: 0.9603\n",
      "Epoch 8/8\n",
      "63/63 [==============================] - 10s 152ms/step - loss: 1.5016e-05 - acc: 1.0000 - val_loss: 0.1214 - val_acc: 0.9603\n"
     ]
    }
   ],
   "source": [
    "history = model.fit(x_train, labelEnc_train, validation_data=(x_val,labelEnc_val), epochs=8, batch_size=32)"
   ]
  }
 ],
 "metadata": {
  "kernelspec": {
   "display_name": "base",
   "language": "python",
   "name": "python3"
  },
  "language_info": {
   "codemirror_mode": {
    "name": "ipython",
    "version": 3
   },
   "file_extension": ".py",
   "mimetype": "text/x-python",
   "name": "python",
   "nbconvert_exporter": "python",
   "pygments_lexer": "ipython3",
   "version": "3.9.12"
  },
  "orig_nbformat": 4
 },
 "nbformat": 4,
 "nbformat_minor": 2
}
